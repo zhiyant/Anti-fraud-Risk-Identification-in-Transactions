{
 "cells": [
  {
   "cell_type": "code",
   "execution_count": 1,
   "metadata": {},
   "outputs": [],
   "source": [
    "import pandas as pd\n",
    "import numpy as np \n",
    "import matplotlib.pyplot as plt"
   ]
  },
  {
   "cell_type": "code",
   "execution_count": 2,
   "metadata": {},
   "outputs": [],
   "source": [
    "SaveFileName = \"test_fea.xlsx\""
   ]
  },
  {
   "cell_type": "code",
   "execution_count": 3,
   "metadata": {},
   "outputs": [],
   "source": [
    "test_base = pd.read_csv('test/test_base.csv')\n",
    "# train_label = pd.read_csv('train/train_label.csv')\n",
    "test_op = pd.read_csv('test/test_op.csv')\n",
    "test_trans = pd.read_csv('test/test_trans.csv')\n"
   ]
  },
  {
   "cell_type": "code",
   "execution_count": 58,
   "metadata": {},
   "outputs": [],
   "source": [
    "test_fea = pd.read_excel('test_fea.xlsx')"
   ]
  },
  {
   "cell_type": "markdown",
   "metadata": {},
   "source": [
    "### 提取天数信息"
   ]
  },
  {
   "cell_type": "code",
   "execution_count": 4,
   "metadata": {},
   "outputs": [],
   "source": [
    "# 将tim_ff列提出天数并考察密度分布，\n",
    "# 划分出时间切片1 7 15天做特征计算和统计\n",
    "def extract_day(s):\n",
    "    char_list = s.split(' ')\n",
    "    day = eval(char_list[0])\n",
    "    return day\n"
   ]
  },
  {
   "cell_type": "code",
   "execution_count": 5,
   "metadata": {},
   "outputs": [],
   "source": [
    "test_op['day'] = test_op['tm_diff'].apply(lambda s:extract_day(s))"
   ]
  },
  {
   "cell_type": "code",
   "execution_count": 6,
   "metadata": {},
   "outputs": [],
   "source": [
    "test_trans['day'] = test_trans['tm_diff'].apply(lambda s:extract_day(s))"
   ]
  },
  {
   "cell_type": "code",
   "execution_count": 7,
   "metadata": {},
   "outputs": [],
   "source": [
    "user = test_base['user'].to_list()"
   ]
  },
  {
   "cell_type": "code",
   "execution_count": 8,
   "metadata": {},
   "outputs": [],
   "source": [
    "def CountOpt(s,optData,noOptUser):\n",
    "    if s not in noOptUser:\n",
    "        return optData[s]\n",
    "    else:\n",
    "        return 0"
   ]
  },
  {
   "cell_type": "code",
   "execution_count": 9,
   "metadata": {},
   "outputs": [],
   "source": [
    "test_fea = test_base"
   ]
  },
  {
   "cell_type": "markdown",
   "metadata": {},
   "source": [
    "对操作次数进行统计"
   ]
  },
  {
   "cell_type": "code",
   "execution_count": 12,
   "metadata": {},
   "outputs": [],
   "source": [
    "def TotalOpt(df,day,attr):\n",
    "    limitDay =df[ df['day'] <= day]\n",
    "    optCount = limitDay.groupby(['user']).size()\n",
    "    haveRecordUser = optCount.index.to_list()\n",
    "    noOptUser = list(filter(lambda x: x not in haveRecordUser,user))\n",
    "    optData = optCount.to_dict()\n",
    "    test_fea[attr] = test_fea.apply(lambda s:CountOpt(s['user'],optData,noOptUser),axis=1)\n",
    "    "
   ]
  },
  {
   "cell_type": "code",
   "execution_count": 13,
   "metadata": {},
   "outputs": [],
   "source": [
    "attr_Opt = ['p_oneDayOpt','p_7DayOpt','p_15DayOpt']\n",
    "day = [1,7,15,30]\n",
    "\n",
    "TotalOpt(test_op,day[0],attr_Opt[0])\n",
    "TotalOpt(test_op,day[1],attr_Opt[1])\n",
    "TotalOpt(test_op,day[2],attr_Opt[2])"
   ]
  },
  {
   "cell_type": "markdown",
   "metadata": {},
   "source": [
    "对ip类型进行统计"
   ]
  },
  {
   "cell_type": "code",
   "execution_count": 14,
   "metadata": {},
   "outputs": [],
   "source": [
    "def CountIpType(df,day,attr):\n",
    "    limitDay =df[ df['day'] <= day]\n",
    "    CountIp = limitDay.groupby(['user']).apply(lambda s: len(list(s.groupby(['ip']).groups.keys())))\n",
    "    haveRecordUser = CountIp.index.to_list()\n",
    "    noOptUser = list(filter(lambda x: x not in haveRecordUser,user))\n",
    "    optData = CountIp.to_dict()\n",
    "\n",
    "    test_fea[attr] = test_fea.apply(lambda s:CountOpt(s['user'],optData,noOptUser),axis=1)\n"
   ]
  },
  {
   "cell_type": "code",
   "execution_count": 15,
   "metadata": {},
   "outputs": [],
   "source": [
    "CountIpType(test_op,1,'p_oneDayOptIpType')\n",
    "CountIpType(test_op,7,'p_7DayOptIpType')\n",
    "CountIpType(test_op,15,'p_15DayOptIpType')\n"
   ]
  },
  {
   "cell_type": "markdown",
   "metadata": {},
   "source": [
    "对操作渠道进行统计"
   ]
  },
  {
   "cell_type": "code",
   "execution_count": 16,
   "metadata": {},
   "outputs": [],
   "source": [
    "# 对渠道进行统计时间分片统计 \n",
    "\n",
    "def CountChannelType(df,day,attr):\n",
    "    limitDay =df[ df['day'] <= day]\n",
    "    Count = limitDay.groupby(['user']).apply(lambda s: len(list(s.groupby(['channel']).groups.keys())))\n",
    "    haveRecordUser = Count.index.to_list()\n",
    "    noOptUser = list(filter(lambda x: x not in haveRecordUser,user))\n",
    "    optData = Count.to_dict()\n",
    "\n",
    "    test_fea[attr] = test_fea.apply(lambda s:CountOpt(s['user'],optData,noOptUser),axis=1)\n",
    "\n"
   ]
  },
  {
   "cell_type": "code",
   "execution_count": 17,
   "metadata": {},
   "outputs": [],
   "source": [
    "CountChannelType(test_op,1,'p_oneDayOptChanType')\n",
    "CountChannelType(test_op,7,'p_7DayOptChanType')\n",
    "CountChannelType(test_op,15,'p_15DayOptChanType')\n"
   ]
  },
  {
   "cell_type": "markdown",
   "metadata": {},
   "source": [
    "## 对交易信息进行统计"
   ]
  },
  {
   "cell_type": "code",
   "execution_count": 22,
   "metadata": {},
   "outputs": [],
   "source": [
    "def TotalMoney(df,day,attr):\n",
    "    limitDay =df[ df['day'] <= day]\n",
    "    optCount = limitDay.groupby(['user']).apply(lambda s:s['amount'].sum())\n",
    "    haveRecordUser = optCount.index.to_list()\n",
    "    noOptUser = list(filter(lambda x: x not in haveRecordUser,user))\n",
    "\n",
    "    optData = optCount.to_dict()\n",
    "\n",
    "    # test_fea[attr] = test_fea.apply(lambda s:[optData[s] if s['user'] not in noOptUser else 0],axis=1)\n",
    "    test_fea[attr] = test_fea.apply(lambda s:CountOpt(s['user'],optData,noOptUser),axis=1)\n",
    "  "
   ]
  },
  {
   "cell_type": "code",
   "execution_count": 23,
   "metadata": {},
   "outputs": [],
   "source": [
    "TotalMoney(test_trans,1,'AllMon_1') \n",
    "TotalMoney(test_trans,7,'AllMon_7') \n",
    "TotalMoney(test_trans,15,'AllMon_15') \n",
    "TotalMoney(test_trans,30,'AllMon_30') "
   ]
  },
  {
   "cell_type": "code",
   "execution_count": 24,
   "metadata": {},
   "outputs": [],
   "source": [
    "test_fea.to_excel('test_fea.xlsx',index=False)"
   ]
  },
  {
   "cell_type": "markdown",
   "metadata": {},
   "source": [
    "交易金额的统计（累计、均值、最大、最小、方差）"
   ]
  },
  {
   "cell_type": "code",
   "execution_count": 10,
   "metadata": {},
   "outputs": [],
   "source": [
    "limitOneDay = test_trans[test_trans['day']<=1]\n",
    "limit30Day = test_trans[test_trans['day']<=30]"
   ]
  },
  {
   "cell_type": "code",
   "execution_count": 11,
   "metadata": {},
   "outputs": [],
   "source": [
    "limit7Day = test_trans[test_trans['day']<=7]\n",
    "limit15Day = test_trans[test_trans['day']<=15]"
   ]
  },
  {
   "cell_type": "markdown",
   "metadata": {},
   "source": [
    "### 1天金额统计"
   ]
  },
  {
   "cell_type": "code",
   "execution_count": 27,
   "metadata": {},
   "outputs": [],
   "source": [
    "# 1天金额均值、最大、最小值、方差\n",
    "# 还要对交易次数进行统计 --\n",
    "oneMax = limitOneDay.groupby(['user']).apply(lambda s:s['amount'].max())\n",
    "oneMin = limitOneDay.groupby(['user']).apply(lambda s:s['amount'].min())\n",
    "oneMean = limitOneDay.groupby(['user']).apply(lambda s:s['amount'].mean())\n",
    "oneStd = limitOneDay.groupby(['user']).apply(lambda s:s['amount'].std())"
   ]
  },
  {
   "cell_type": "code",
   "execution_count": 28,
   "metadata": {},
   "outputs": [],
   "source": [
    "_1DayinUser = oneMax.index.to_list()"
   ]
  },
  {
   "cell_type": "code",
   "execution_count": 29,
   "metadata": {},
   "outputs": [],
   "source": [
    "_1DayNotInUser = list(filter(lambda x: x not in _1DayinUser,user))"
   ]
  },
  {
   "cell_type": "code",
   "execution_count": 30,
   "metadata": {},
   "outputs": [],
   "source": [
    "test_fea['Mean'+'过去1天累计交易金额'] = test_fea.apply(lambda s:CountOpt(s['user'],oneMean.to_dict(),_1DayNotInUser),axis=1) \n",
    "test_fea['Std'+'过去1天累计交易金额'] = test_fea.apply(lambda s:CountOpt(s['user'],oneStd.to_dict(),_1DayNotInUser),axis=1)  \n",
    "test_fea['Max'+'过去1天累计交易金额'] = test_fea.apply(lambda s:CountOpt(s['user'],oneMax.to_dict(),_1DayNotInUser),axis=1) \n",
    "test_fea['Min'+'过去1天累计交易金额'] =test_fea.apply(lambda s:CountOpt(s['user'],oneMin.to_dict(),_1DayNotInUser),axis=1)  "
   ]
  },
  {
   "cell_type": "markdown",
   "metadata": {},
   "source": [
    "### 30天金额统计"
   ]
  },
  {
   "cell_type": "code",
   "execution_count": 31,
   "metadata": {},
   "outputs": [],
   "source": [
    "# 1天金额均值、最大、最小值、方差\n",
    "# 还要对交易次数进行统计 --\n",
    "_30Max = limit30Day.groupby(['user']).apply(lambda s:s['amount'].max())\n",
    "_30Min = limit30Day.groupby(['user']).apply(lambda s:s['amount'].min())\n",
    "_30Mean = limit30Day.groupby(['user']).apply(lambda s:s['amount'].mean())\n",
    "_30Std = limit30Day.groupby(['user']).apply(lambda s:s['amount'].std())"
   ]
  },
  {
   "cell_type": "code",
   "execution_count": 32,
   "metadata": {},
   "outputs": [],
   "source": [
    "# user = list(train_base['user'])\n",
    "_30DayinUser = _30Max.index.to_list()\n",
    "_30DayNotInUser = list(filter(lambda x: x not in _30DayinUser,user))"
   ]
  },
  {
   "cell_type": "code",
   "execution_count": 34,
   "metadata": {},
   "outputs": [],
   "source": [
    "test_fea['Mean'+'过去30天累计交易金额'] = test_fea.apply(lambda s:CountOpt(s['user'],_30Mean.to_dict(),_30DayNotInUser),axis=1) \n",
    "test_fea['Std'+'过去30天累计交易金额'] = test_fea.apply(lambda s:CountOpt(s['user'],_30Std.to_dict(),_30DayNotInUser),axis=1)  \n",
    "test_fea['Max'+'过去30天累计交易金额'] = test_fea.apply(lambda s:CountOpt(s['user'],_30Max.to_dict(),_30DayNotInUser),axis=1) \n",
    "test_fea['Min'+'过去30天累计交易金额'] =test_fea.apply(lambda s:CountOpt(s['user'],_30Min.to_dict(),_30DayNotInUser),axis=1)  "
   ]
  },
  {
   "cell_type": "markdown",
   "metadata": {},
   "source": [
    "### 15天金额统计"
   ]
  },
  {
   "cell_type": "code",
   "execution_count": 35,
   "metadata": {},
   "outputs": [],
   "source": [
    "# 1天金额均值、最大、最小值、方差\n",
    "# 还要对交易次数进行统计 --\n",
    "_15Max = limit15Day.groupby(['user']).apply(lambda s:s['amount'].max())\n",
    "_15Min = limit15Day.groupby(['user']).apply(lambda s:s['amount'].min())\n",
    "_15Mean = limit15Day.groupby(['user']).apply(lambda s:s['amount'].mean())\n",
    "_15Std = limit15Day.groupby(['user']).apply(lambda s:s['amount'].std())"
   ]
  },
  {
   "cell_type": "code",
   "execution_count": 36,
   "metadata": {},
   "outputs": [],
   "source": [
    "# user = list(train_base['user'])\n",
    "_15DayinUser = _15Max.index.to_list()\n",
    "_15DayNotInUser = list(filter(lambda x: x not in _15DayinUser,user))"
   ]
  },
  {
   "cell_type": "code",
   "execution_count": 37,
   "metadata": {},
   "outputs": [],
   "source": [
    "test_fea['Mean'+'过去15天累计交易金额'] = test_fea.apply(lambda s:CountOpt(s['user'],_15Mean.to_dict(),_15DayNotInUser),axis=1) \n",
    "test_fea['Std'+'过去15天累计交易金额'] = test_fea.apply(lambda s:CountOpt(s['user'],_15Std.to_dict(),_15DayNotInUser),axis=1)  \n",
    "test_fea['Max'+'过去15天累计交易金额'] = test_fea.apply(lambda s:CountOpt(s['user'],_15Max.to_dict(),_15DayNotInUser),axis=1) \n",
    "test_fea['Min'+'过去15天累计交易金额'] =test_fea.apply(lambda s:CountOpt(s['user'],_15Min.to_dict(),_15DayNotInUser),axis=1)  "
   ]
  },
  {
   "cell_type": "markdown",
   "metadata": {},
   "source": [
    "### 7天金额统计"
   ]
  },
  {
   "cell_type": "code",
   "execution_count": 38,
   "metadata": {},
   "outputs": [],
   "source": [
    "# 1天金额均值、最大、最小值、方差\n",
    "# 还要对交易次数进行统计 --\n",
    "_7Max = limit7Day.groupby(['user']).apply(lambda s:s['amount'].max())\n",
    "_7Min = limit7Day.groupby(['user']).apply(lambda s:s['amount'].min())\n",
    "_7Mean = limit7Day.groupby(['user']).apply(lambda s:s['amount'].mean())\n",
    "_7Std = limit7Day.groupby(['user']).apply(lambda s:s['amount'].std())"
   ]
  },
  {
   "cell_type": "code",
   "execution_count": 39,
   "metadata": {},
   "outputs": [],
   "source": [
    "# user = list(train_base['user'])\n",
    "_7DayinUser = _7Max.index.to_list()\n",
    "_7DayNotInUser = list(filter(lambda x: x not in _7DayinUser,user))"
   ]
  },
  {
   "cell_type": "code",
   "execution_count": 40,
   "metadata": {},
   "outputs": [],
   "source": [
    "test_fea['Mean'+'过去7天累计交易金额'] = test_fea.apply(lambda s:CountOpt(s['user'],_7Mean.to_dict(),_7DayNotInUser),axis=1) \n",
    "test_fea['Std'+'过去7天累计交易金额'] = test_fea.apply(lambda s:CountOpt(s['user'],_7Std.to_dict(),_7DayNotInUser),axis=1)  \n",
    "test_fea['Max'+'过去7天累计交易金额'] = test_fea.apply(lambda s:CountOpt(s['user'],_7Max.to_dict(),_7DayNotInUser),axis=1) \n",
    "test_fea['Min'+'过去7天累计交易金额'] =test_fea.apply(lambda s:CountOpt(s['user'],_7Min.to_dict(),_7DayNotInUser),axis=1)  "
   ]
  },
  {
   "cell_type": "markdown",
   "metadata": {},
   "source": [
    "交易次数的统计（累计和均值）"
   ]
  },
  {
   "cell_type": "code",
   "execution_count": 12,
   "metadata": {},
   "outputs": [],
   "source": [
    "# 累计交易次数\n",
    "_1times = limitOneDay.groupby(['user']).size()\n",
    "_7times = limit7Day.groupby(['user']).size()\n",
    "_15times = limit15Day.groupby(['user']).size()\n",
    "_30times = limit30Day.groupby(['user']).size()"
   ]
  },
  {
   "cell_type": "code",
   "execution_count": 44,
   "metadata": {},
   "outputs": [],
   "source": [
    "# 累计交易次数统计\n",
    "test_fea['过去1天累计交易次数'] = test_fea.apply(lambda s:CountOpt(s['user'],_1times.to_dict(),_1DayNotInUser),axis=1)  \n",
    "test_fea['过去7天累计交易次数'] = test_fea.apply(lambda s:CountOpt(s['user'],_7times.to_dict(),_7DayNotInUser),axis=1)  \n",
    "test_fea['过去15天累计交易次数'] = test_fea.apply(lambda s:CountOpt(s['user'],_15times.to_dict(),_15DayNotInUser),axis=1)  \n",
    "test_fea['过去30天累计交易次数'] = test_fea.apply(lambda s:CountOpt(s['user'],_30times.to_dict(),_30DayNotInUser),axis=1)  "
   ]
  },
  {
   "cell_type": "code",
   "execution_count": 14,
   "metadata": {},
   "outputs": [],
   "source": [
    "_7timesM = _7times/7\n",
    "_15timesM = _15times/15\n",
    "_30timesM = _30times/30"
   ]
  },
  {
   "cell_type": "code",
   "execution_count": 46,
   "metadata": {},
   "outputs": [],
   "source": [
    "# 平均交易次数统计\n",
    "test_fea['过去7天平均交易次数'] = test_fea.apply(lambda s:CountOpt(s['user'],_7timesM.to_dict(),_7DayNotInUser),axis=1)  \n",
    "test_fea['过去15天平均交易次数'] = test_fea.apply(lambda s:CountOpt(s['user'],_15timesM.to_dict(),_15DayNotInUser),axis=1)  \n",
    "test_fea['过去30天平均交易次数'] = test_fea.apply(lambda s:CountOpt(s['user'],_30timesM.to_dict(),_30DayNotInUser),axis=1)  "
   ]
  },
  {
   "cell_type": "markdown",
   "metadata": {},
   "source": [
    "交易平台类型计数统计"
   ]
  },
  {
   "cell_type": "code",
   "execution_count": 51,
   "metadata": {},
   "outputs": [],
   "source": [
    "CountPlat = limit30Day.groupby(['user']).apply(lambda s: len(list(s.groupby(['platform']).groups.keys())))\n",
    "\n",
    "test_fea['过去30天交易平台类型'] = test_fea.apply(lambda s:CountOpt(s['user'],CountPlat.to_dict(),_30DayNotInUser),axis=1)  "
   ]
  },
  {
   "cell_type": "code",
   "execution_count": 76,
   "metadata": {},
   "outputs": [],
   "source": [
    "def Count1wan(x):\n",
    "    count = 0\n",
    "    for item in x:\n",
    "        if item[4] > 10000:\n",
    "            count+=1\n",
    "    return count\n"
   ]
  },
  {
   "cell_type": "code",
   "execution_count": 77,
   "metadata": {},
   "outputs": [],
   "source": [
    "# 过去1天大于1万交易的次数\n",
    "\n",
    "_1over = limitOneDay.groupby(['user']).apply(lambda s:Count1wan(s.values))"
   ]
  },
  {
   "cell_type": "code",
   "execution_count": 79,
   "metadata": {},
   "outputs": [],
   "source": [
    "test_fea['过去1天交易超过1万元次数'] = test_fea.apply(lambda s:CountOpt(s['user'],_1over.to_dict(),_1DayNotInUser),axis=1)  "
   ]
  },
  {
   "cell_type": "code",
   "execution_count": 82,
   "metadata": {},
   "outputs": [],
   "source": [
    "FileName = \"new_test_fea.csv\""
   ]
  },
  {
   "cell_type": "code",
   "execution_count": 81,
   "metadata": {},
   "outputs": [],
   "source": [
    "test_fea.to_csv(FileName,index=False)"
   ]
  },
  {
   "cell_type": "code",
   "execution_count": 83,
   "metadata": {},
   "outputs": [
    {
     "data": {
      "text/html": [
       "<div>\n",
       "<style scoped>\n",
       "    .dataframe tbody tr th:only-of-type {\n",
       "        vertical-align: middle;\n",
       "    }\n",
       "\n",
       "    .dataframe tbody tr th {\n",
       "        vertical-align: top;\n",
       "    }\n",
       "\n",
       "    .dataframe thead th {\n",
       "        text-align: right;\n",
       "    }\n",
       "</style>\n",
       "<table border=\"1\" class=\"dataframe\">\n",
       "  <thead>\n",
       "    <tr style=\"text-align: right;\">\n",
       "      <th></th>\n",
       "      <th>user</th>\n",
       "      <th>sex</th>\n",
       "      <th>age</th>\n",
       "      <th>provider</th>\n",
       "      <th>level</th>\n",
       "      <th>verified</th>\n",
       "      <th>using_time</th>\n",
       "      <th>regist_type</th>\n",
       "      <th>card_a_cnt</th>\n",
       "      <th>card_b_cnt</th>\n",
       "      <th>...</th>\n",
       "      <th>Min过去7天累计交易金额</th>\n",
       "      <th>过去1天累计交易次数</th>\n",
       "      <th>过去7天累计交易次数</th>\n",
       "      <th>过去15天累计交易次数</th>\n",
       "      <th>过去30天累计交易次数</th>\n",
       "      <th>过去7天平均交易次数</th>\n",
       "      <th>过去15天平均交易次数</th>\n",
       "      <th>过去30天平均交易次数</th>\n",
       "      <th>过去30天交易平台类型</th>\n",
       "      <th>过去1天交易超过1万元次数</th>\n",
       "    </tr>\n",
       "  </thead>\n",
       "  <tbody>\n",
       "    <tr>\n",
       "      <th>0</th>\n",
       "      <td>Test_02230</td>\n",
       "      <td>category 0</td>\n",
       "      <td>24914</td>\n",
       "      <td>category 0</td>\n",
       "      <td>category 2</td>\n",
       "      <td>category 0</td>\n",
       "      <td>24735</td>\n",
       "      <td>category 7</td>\n",
       "      <td>24743</td>\n",
       "      <td>24725</td>\n",
       "      <td>...</td>\n",
       "      <td>25315.0</td>\n",
       "      <td>0</td>\n",
       "      <td>16</td>\n",
       "      <td>37</td>\n",
       "      <td>104</td>\n",
       "      <td>2.285714</td>\n",
       "      <td>2.466667</td>\n",
       "      <td>3.466667</td>\n",
       "      <td>3</td>\n",
       "      <td>0</td>\n",
       "    </tr>\n",
       "    <tr>\n",
       "      <th>1</th>\n",
       "      <td>Test_21691</td>\n",
       "      <td>category 0</td>\n",
       "      <td>24920</td>\n",
       "      <td>category 0</td>\n",
       "      <td>category 2</td>\n",
       "      <td>category 0</td>\n",
       "      <td>24725</td>\n",
       "      <td>category 2</td>\n",
       "      <td>24725</td>\n",
       "      <td>24719</td>\n",
       "      <td>...</td>\n",
       "      <td>48351.0</td>\n",
       "      <td>0</td>\n",
       "      <td>4</td>\n",
       "      <td>4</td>\n",
       "      <td>4</td>\n",
       "      <td>0.571429</td>\n",
       "      <td>0.266667</td>\n",
       "      <td>0.133333</td>\n",
       "      <td>2</td>\n",
       "      <td>0</td>\n",
       "    </tr>\n",
       "    <tr>\n",
       "      <th>2</th>\n",
       "      <td>Test_31857</td>\n",
       "      <td>category 1</td>\n",
       "      <td>24877</td>\n",
       "      <td>category 2</td>\n",
       "      <td>category 2</td>\n",
       "      <td>category 0</td>\n",
       "      <td>24722</td>\n",
       "      <td>category 3</td>\n",
       "      <td>24725</td>\n",
       "      <td>24712</td>\n",
       "      <td>...</td>\n",
       "      <td>0.0</td>\n",
       "      <td>0</td>\n",
       "      <td>0</td>\n",
       "      <td>4</td>\n",
       "      <td>8</td>\n",
       "      <td>0.000000</td>\n",
       "      <td>0.266667</td>\n",
       "      <td>0.266667</td>\n",
       "      <td>3</td>\n",
       "      <td>0</td>\n",
       "    </tr>\n",
       "  </tbody>\n",
       "</table>\n",
       "<p>3 rows × 84 columns</p>\n",
       "</div>"
      ],
      "text/plain": [
       "         user         sex    age    provider       level    verified  \\\n",
       "0  Test_02230  category 0  24914  category 0  category 2  category 0   \n",
       "1  Test_21691  category 0  24920  category 0  category 2  category 0   \n",
       "2  Test_31857  category 1  24877  category 2  category 2  category 0   \n",
       "\n",
       "   using_time regist_type  card_a_cnt  card_b_cnt  ...  Min过去7天累计交易金额  \\\n",
       "0       24735  category 7       24743       24725  ...        25315.0   \n",
       "1       24725  category 2       24725       24719  ...        48351.0   \n",
       "2       24722  category 3       24725       24712  ...            0.0   \n",
       "\n",
       "  过去1天累计交易次数  过去7天累计交易次数  过去15天累计交易次数  过去30天累计交易次数  过去7天平均交易次数  过去15天平均交易次数  \\\n",
       "0          0          16           37          104    2.285714     2.466667   \n",
       "1          0           4            4            4    0.571429     0.266667   \n",
       "2          0           0            4            8    0.000000     0.266667   \n",
       "\n",
       "   过去30天平均交易次数  过去30天交易平台类型 过去1天交易超过1万元次数  \n",
       "0     3.466667            3             0  \n",
       "1     0.133333            2             0  \n",
       "2     0.266667            3             0  \n",
       "\n",
       "[3 rows x 84 columns]"
      ]
     },
     "execution_count": 83,
     "metadata": {},
     "output_type": "execute_result"
    }
   ],
   "source": [
    "test_fea.head(3)"
   ]
  },
  {
   "cell_type": "code",
   "execution_count": 56,
   "metadata": {},
   "outputs": [],
   "source": [
    "# 特征交互？type1计算?\n",
    "\n",
    "limOneDayIn = limitOneDay[(limitOneDay['tunnel_in'].notna())]\n",
    "limOneDayOut = limitOneDay[(limitOneDay['tunnel_out'].notna())]\n"
   ]
  },
  {
   "cell_type": "code",
   "execution_count": null,
   "metadata": {},
   "outputs": [],
   "source": [
    "def CountType1(df,day,attr):\n",
    "    \n",
    "    limitDay =df[ df['day'] <= day]\n",
    "    CountIp = limitDay.groupby(['user']).apply(lambda s: len(list(s.groupby(['type1']).groups.keys())))\n",
    "\n",
    "    haveRecordUser = CountIp.index.to_list()\n",
    "    \n",
    "    noOptUser = list(filter(lambda x: x not in haveRecordUser,user))\n",
    "    \n",
    "    optData = CountIp.to_dict()\n",
    "\n",
    "    test_fea[attr] = test_fea.apply(lambda s:CountOpt(s['user'],optData,noOptUser),axis=1)\n"
   ]
  },
  {
   "cell_type": "code",
   "execution_count": null,
   "metadata": {},
   "outputs": [],
   "source": [
    "\n",
    "\n"
   ]
  }
 ],
 "metadata": {
  "interpreter": {
   "hash": "4905652b14e4b7eb92899b78ac499a22c488804455b27940a322fd82aaf71031"
  },
  "kernelspec": {
   "display_name": "Python 3.8.8 64-bit ('base': conda)",
   "language": "python",
   "name": "python3"
  },
  "language_info": {
   "codemirror_mode": {
    "name": "ipython",
    "version": 3
   },
   "file_extension": ".py",
   "mimetype": "text/x-python",
   "name": "python",
   "nbconvert_exporter": "python",
   "pygments_lexer": "ipython3",
   "version": "3.8.8"
  },
  "orig_nbformat": 4
 },
 "nbformat": 4,
 "nbformat_minor": 2
}
